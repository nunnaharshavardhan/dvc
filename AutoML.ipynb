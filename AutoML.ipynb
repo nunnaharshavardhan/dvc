{
  "cells": [
    {
      "cell_type": "code",
      "execution_count": 120,
      "metadata": {
        "id": "M9EKU15dPlpR"
      },
      "outputs": [],
      "source": [
        "import numpy as np\n",
        "import pandas as pd\n",
        "from sklearn.ensemble import ExtraTreesClassifier\n",
        "import matplotlib.pyplot as plt\n",
        "from sklearn.preprocessing import OneHotEncoder, StandardScaler\n",
        "from sklearn.metrics import f1_score\n",
        "from sklearn.metrics import roc_curve"
      ]
    },
    {
      "cell_type": "code",
      "execution_count": 121,
      "metadata": {
        "id": "bj-UFspXfWU2"
      },
      "outputs": [],
      "source": [
        "df= pd.read_csv('CustomerSegmentation_Train.csv')"
      ]
    },
    {
      "cell_type": "code",
      "execution_count": 122,
      "metadata": {
        "id": "2Kx4pzUXgYal"
      },
      "outputs": [],
      "source": [
        "#df=df[:300]"
      ]
    },
    {
      "cell_type": "code",
      "execution_count": 123,
      "metadata": {
        "id": "iMwkHA5aA4IW"
      },
      "outputs": [],
      "source": [
        "from sklearn.preprocessing import LabelEncoder\n",
        "\n",
        "# create a LabelEncoder object\n",
        "le = LabelEncoder()\n",
        "\n",
        "# loop through each column in your dataset\n",
        "for col in df.columns:\n",
        "    # check if the column is categorical\n",
        "    if df[col].dtype == 'object':\n",
        "        # use LabelEncoder to convert the categorical values to numeric\n",
        "        df[col] = le.fit_transform(df[col])"
      ]
    },
    {
      "cell_type": "code",
      "execution_count": 124,
      "metadata": {
        "colab": {
          "base_uri": "https://localhost:8080/",
          "height": 423
        },
        "id": "dovCNp_NBReD",
        "outputId": "2352546c-65cd-4849-c98a-f9d065ad7f81"
      },
      "outputs": [
        {
          "data": {
            "text/html": [
              "<div>\n",
              "<style scoped>\n",
              "    .dataframe tbody tr th:only-of-type {\n",
              "        vertical-align: middle;\n",
              "    }\n",
              "\n",
              "    .dataframe tbody tr th {\n",
              "        vertical-align: top;\n",
              "    }\n",
              "\n",
              "    .dataframe thead th {\n",
              "        text-align: right;\n",
              "    }\n",
              "</style>\n",
              "<table border=\"1\" class=\"dataframe\">\n",
              "  <thead>\n",
              "    <tr style=\"text-align: right;\">\n",
              "      <th></th>\n",
              "      <th>ID</th>\n",
              "      <th>Gender</th>\n",
              "      <th>Ever_Married</th>\n",
              "      <th>Age</th>\n",
              "      <th>Graduated</th>\n",
              "      <th>Profession</th>\n",
              "      <th>Work_Experience</th>\n",
              "      <th>Spending_Score</th>\n",
              "      <th>Family_Size</th>\n",
              "      <th>Var_1</th>\n",
              "      <th>Segmentation</th>\n",
              "    </tr>\n",
              "  </thead>\n",
              "  <tbody>\n",
              "    <tr>\n",
              "      <th>0</th>\n",
              "      <td>462809</td>\n",
              "      <td>1</td>\n",
              "      <td>0</td>\n",
              "      <td>22</td>\n",
              "      <td>0</td>\n",
              "      <td>5</td>\n",
              "      <td>1.0</td>\n",
              "      <td>2</td>\n",
              "      <td>4.0</td>\n",
              "      <td>3</td>\n",
              "      <td>3</td>\n",
              "    </tr>\n",
              "    <tr>\n",
              "      <th>1</th>\n",
              "      <td>462643</td>\n",
              "      <td>0</td>\n",
              "      <td>1</td>\n",
              "      <td>38</td>\n",
              "      <td>1</td>\n",
              "      <td>2</td>\n",
              "      <td>NaN</td>\n",
              "      <td>0</td>\n",
              "      <td>3.0</td>\n",
              "      <td>3</td>\n",
              "      <td>0</td>\n",
              "    </tr>\n",
              "    <tr>\n",
              "      <th>2</th>\n",
              "      <td>466315</td>\n",
              "      <td>0</td>\n",
              "      <td>1</td>\n",
              "      <td>67</td>\n",
              "      <td>1</td>\n",
              "      <td>2</td>\n",
              "      <td>1.0</td>\n",
              "      <td>2</td>\n",
              "      <td>1.0</td>\n",
              "      <td>5</td>\n",
              "      <td>1</td>\n",
              "    </tr>\n",
              "    <tr>\n",
              "      <th>3</th>\n",
              "      <td>461735</td>\n",
              "      <td>1</td>\n",
              "      <td>1</td>\n",
              "      <td>67</td>\n",
              "      <td>1</td>\n",
              "      <td>7</td>\n",
              "      <td>0.0</td>\n",
              "      <td>1</td>\n",
              "      <td>2.0</td>\n",
              "      <td>5</td>\n",
              "      <td>1</td>\n",
              "    </tr>\n",
              "    <tr>\n",
              "      <th>4</th>\n",
              "      <td>462669</td>\n",
              "      <td>0</td>\n",
              "      <td>1</td>\n",
              "      <td>40</td>\n",
              "      <td>1</td>\n",
              "      <td>3</td>\n",
              "      <td>NaN</td>\n",
              "      <td>1</td>\n",
              "      <td>6.0</td>\n",
              "      <td>5</td>\n",
              "      <td>0</td>\n",
              "    </tr>\n",
              "    <tr>\n",
              "      <th>...</th>\n",
              "      <td>...</td>\n",
              "      <td>...</td>\n",
              "      <td>...</td>\n",
              "      <td>...</td>\n",
              "      <td>...</td>\n",
              "      <td>...</td>\n",
              "      <td>...</td>\n",
              "      <td>...</td>\n",
              "      <td>...</td>\n",
              "      <td>...</td>\n",
              "      <td>...</td>\n",
              "    </tr>\n",
              "    <tr>\n",
              "      <th>8063</th>\n",
              "      <td>464018</td>\n",
              "      <td>1</td>\n",
              "      <td>0</td>\n",
              "      <td>22</td>\n",
              "      <td>0</td>\n",
              "      <td>9</td>\n",
              "      <td>0.0</td>\n",
              "      <td>2</td>\n",
              "      <td>7.0</td>\n",
              "      <td>0</td>\n",
              "      <td>3</td>\n",
              "    </tr>\n",
              "    <tr>\n",
              "      <th>8064</th>\n",
              "      <td>464685</td>\n",
              "      <td>1</td>\n",
              "      <td>0</td>\n",
              "      <td>35</td>\n",
              "      <td>0</td>\n",
              "      <td>4</td>\n",
              "      <td>3.0</td>\n",
              "      <td>2</td>\n",
              "      <td>4.0</td>\n",
              "      <td>3</td>\n",
              "      <td>3</td>\n",
              "    </tr>\n",
              "    <tr>\n",
              "      <th>8065</th>\n",
              "      <td>465406</td>\n",
              "      <td>0</td>\n",
              "      <td>0</td>\n",
              "      <td>33</td>\n",
              "      <td>1</td>\n",
              "      <td>5</td>\n",
              "      <td>1.0</td>\n",
              "      <td>2</td>\n",
              "      <td>1.0</td>\n",
              "      <td>5</td>\n",
              "      <td>3</td>\n",
              "    </tr>\n",
              "    <tr>\n",
              "      <th>8066</th>\n",
              "      <td>467299</td>\n",
              "      <td>0</td>\n",
              "      <td>0</td>\n",
              "      <td>27</td>\n",
              "      <td>1</td>\n",
              "      <td>5</td>\n",
              "      <td>1.0</td>\n",
              "      <td>2</td>\n",
              "      <td>4.0</td>\n",
              "      <td>5</td>\n",
              "      <td>1</td>\n",
              "    </tr>\n",
              "    <tr>\n",
              "      <th>8067</th>\n",
              "      <td>461879</td>\n",
              "      <td>1</td>\n",
              "      <td>1</td>\n",
              "      <td>37</td>\n",
              "      <td>1</td>\n",
              "      <td>4</td>\n",
              "      <td>0.0</td>\n",
              "      <td>0</td>\n",
              "      <td>3.0</td>\n",
              "      <td>3</td>\n",
              "      <td>1</td>\n",
              "    </tr>\n",
              "  </tbody>\n",
              "</table>\n",
              "<p>8068 rows × 11 columns</p>\n",
              "</div>"
            ],
            "text/plain": [
              "          ID  Gender  Ever_Married  Age  Graduated  Profession  \\\n",
              "0     462809       1             0   22          0           5   \n",
              "1     462643       0             1   38          1           2   \n",
              "2     466315       0             1   67          1           2   \n",
              "3     461735       1             1   67          1           7   \n",
              "4     462669       0             1   40          1           3   \n",
              "...      ...     ...           ...  ...        ...         ...   \n",
              "8063  464018       1             0   22          0           9   \n",
              "8064  464685       1             0   35          0           4   \n",
              "8065  465406       0             0   33          1           5   \n",
              "8066  467299       0             0   27          1           5   \n",
              "8067  461879       1             1   37          1           4   \n",
              "\n",
              "      Work_Experience  Spending_Score  Family_Size  Var_1  Segmentation  \n",
              "0                 1.0               2          4.0      3             3  \n",
              "1                 NaN               0          3.0      3             0  \n",
              "2                 1.0               2          1.0      5             1  \n",
              "3                 0.0               1          2.0      5             1  \n",
              "4                 NaN               1          6.0      5             0  \n",
              "...               ...             ...          ...    ...           ...  \n",
              "8063              0.0               2          7.0      0             3  \n",
              "8064              3.0               2          4.0      3             3  \n",
              "8065              1.0               2          1.0      5             3  \n",
              "8066              1.0               2          4.0      5             1  \n",
              "8067              0.0               0          3.0      3             1  \n",
              "\n",
              "[8068 rows x 11 columns]"
            ]
          },
          "execution_count": 124,
          "metadata": {},
          "output_type": "execute_result"
        }
      ],
      "source": [
        "df"
      ]
    },
    {
      "cell_type": "code",
      "execution_count": 125,
      "metadata": {
        "colab": {
          "base_uri": "https://localhost:8080/",
          "height": 423
        },
        "id": "yrtI2VdDfYWs",
        "outputId": "f96c263f-c584-46a9-bfb1-5b17a8629e5b"
      },
      "outputs": [
        {
          "data": {
            "text/html": [
              "<div>\n",
              "<style scoped>\n",
              "    .dataframe tbody tr th:only-of-type {\n",
              "        vertical-align: middle;\n",
              "    }\n",
              "\n",
              "    .dataframe tbody tr th {\n",
              "        vertical-align: top;\n",
              "    }\n",
              "\n",
              "    .dataframe thead th {\n",
              "        text-align: right;\n",
              "    }\n",
              "</style>\n",
              "<table border=\"1\" class=\"dataframe\">\n",
              "  <thead>\n",
              "    <tr style=\"text-align: right;\">\n",
              "      <th></th>\n",
              "      <th>ID</th>\n",
              "      <th>Gender</th>\n",
              "      <th>Ever_Married</th>\n",
              "      <th>Age</th>\n",
              "      <th>Graduated</th>\n",
              "      <th>Profession</th>\n",
              "      <th>Work_Experience</th>\n",
              "      <th>Spending_Score</th>\n",
              "      <th>Family_Size</th>\n",
              "      <th>Var_1</th>\n",
              "      <th>target_variable</th>\n",
              "    </tr>\n",
              "  </thead>\n",
              "  <tbody>\n",
              "    <tr>\n",
              "      <th>0</th>\n",
              "      <td>462809</td>\n",
              "      <td>1</td>\n",
              "      <td>0</td>\n",
              "      <td>22</td>\n",
              "      <td>0</td>\n",
              "      <td>5</td>\n",
              "      <td>1.0</td>\n",
              "      <td>2</td>\n",
              "      <td>4.0</td>\n",
              "      <td>3</td>\n",
              "      <td>3</td>\n",
              "    </tr>\n",
              "    <tr>\n",
              "      <th>1</th>\n",
              "      <td>462643</td>\n",
              "      <td>0</td>\n",
              "      <td>1</td>\n",
              "      <td>38</td>\n",
              "      <td>1</td>\n",
              "      <td>2</td>\n",
              "      <td>NaN</td>\n",
              "      <td>0</td>\n",
              "      <td>3.0</td>\n",
              "      <td>3</td>\n",
              "      <td>0</td>\n",
              "    </tr>\n",
              "    <tr>\n",
              "      <th>2</th>\n",
              "      <td>466315</td>\n",
              "      <td>0</td>\n",
              "      <td>1</td>\n",
              "      <td>67</td>\n",
              "      <td>1</td>\n",
              "      <td>2</td>\n",
              "      <td>1.0</td>\n",
              "      <td>2</td>\n",
              "      <td>1.0</td>\n",
              "      <td>5</td>\n",
              "      <td>1</td>\n",
              "    </tr>\n",
              "    <tr>\n",
              "      <th>3</th>\n",
              "      <td>461735</td>\n",
              "      <td>1</td>\n",
              "      <td>1</td>\n",
              "      <td>67</td>\n",
              "      <td>1</td>\n",
              "      <td>7</td>\n",
              "      <td>0.0</td>\n",
              "      <td>1</td>\n",
              "      <td>2.0</td>\n",
              "      <td>5</td>\n",
              "      <td>1</td>\n",
              "    </tr>\n",
              "    <tr>\n",
              "      <th>4</th>\n",
              "      <td>462669</td>\n",
              "      <td>0</td>\n",
              "      <td>1</td>\n",
              "      <td>40</td>\n",
              "      <td>1</td>\n",
              "      <td>3</td>\n",
              "      <td>NaN</td>\n",
              "      <td>1</td>\n",
              "      <td>6.0</td>\n",
              "      <td>5</td>\n",
              "      <td>0</td>\n",
              "    </tr>\n",
              "    <tr>\n",
              "      <th>...</th>\n",
              "      <td>...</td>\n",
              "      <td>...</td>\n",
              "      <td>...</td>\n",
              "      <td>...</td>\n",
              "      <td>...</td>\n",
              "      <td>...</td>\n",
              "      <td>...</td>\n",
              "      <td>...</td>\n",
              "      <td>...</td>\n",
              "      <td>...</td>\n",
              "      <td>...</td>\n",
              "    </tr>\n",
              "    <tr>\n",
              "      <th>8063</th>\n",
              "      <td>464018</td>\n",
              "      <td>1</td>\n",
              "      <td>0</td>\n",
              "      <td>22</td>\n",
              "      <td>0</td>\n",
              "      <td>9</td>\n",
              "      <td>0.0</td>\n",
              "      <td>2</td>\n",
              "      <td>7.0</td>\n",
              "      <td>0</td>\n",
              "      <td>3</td>\n",
              "    </tr>\n",
              "    <tr>\n",
              "      <th>8064</th>\n",
              "      <td>464685</td>\n",
              "      <td>1</td>\n",
              "      <td>0</td>\n",
              "      <td>35</td>\n",
              "      <td>0</td>\n",
              "      <td>4</td>\n",
              "      <td>3.0</td>\n",
              "      <td>2</td>\n",
              "      <td>4.0</td>\n",
              "      <td>3</td>\n",
              "      <td>3</td>\n",
              "    </tr>\n",
              "    <tr>\n",
              "      <th>8065</th>\n",
              "      <td>465406</td>\n",
              "      <td>0</td>\n",
              "      <td>0</td>\n",
              "      <td>33</td>\n",
              "      <td>1</td>\n",
              "      <td>5</td>\n",
              "      <td>1.0</td>\n",
              "      <td>2</td>\n",
              "      <td>1.0</td>\n",
              "      <td>5</td>\n",
              "      <td>3</td>\n",
              "    </tr>\n",
              "    <tr>\n",
              "      <th>8066</th>\n",
              "      <td>467299</td>\n",
              "      <td>0</td>\n",
              "      <td>0</td>\n",
              "      <td>27</td>\n",
              "      <td>1</td>\n",
              "      <td>5</td>\n",
              "      <td>1.0</td>\n",
              "      <td>2</td>\n",
              "      <td>4.0</td>\n",
              "      <td>5</td>\n",
              "      <td>1</td>\n",
              "    </tr>\n",
              "    <tr>\n",
              "      <th>8067</th>\n",
              "      <td>461879</td>\n",
              "      <td>1</td>\n",
              "      <td>1</td>\n",
              "      <td>37</td>\n",
              "      <td>1</td>\n",
              "      <td>4</td>\n",
              "      <td>0.0</td>\n",
              "      <td>0</td>\n",
              "      <td>3.0</td>\n",
              "      <td>3</td>\n",
              "      <td>1</td>\n",
              "    </tr>\n",
              "  </tbody>\n",
              "</table>\n",
              "<p>8068 rows × 11 columns</p>\n",
              "</div>"
            ],
            "text/plain": [
              "          ID  Gender  Ever_Married  Age  Graduated  Profession  \\\n",
              "0     462809       1             0   22          0           5   \n",
              "1     462643       0             1   38          1           2   \n",
              "2     466315       0             1   67          1           2   \n",
              "3     461735       1             1   67          1           7   \n",
              "4     462669       0             1   40          1           3   \n",
              "...      ...     ...           ...  ...        ...         ...   \n",
              "8063  464018       1             0   22          0           9   \n",
              "8064  464685       1             0   35          0           4   \n",
              "8065  465406       0             0   33          1           5   \n",
              "8066  467299       0             0   27          1           5   \n",
              "8067  461879       1             1   37          1           4   \n",
              "\n",
              "      Work_Experience  Spending_Score  Family_Size  Var_1  target_variable  \n",
              "0                 1.0               2          4.0      3                3  \n",
              "1                 NaN               0          3.0      3                0  \n",
              "2                 1.0               2          1.0      5                1  \n",
              "3                 0.0               1          2.0      5                1  \n",
              "4                 NaN               1          6.0      5                0  \n",
              "...               ...             ...          ...    ...              ...  \n",
              "8063              0.0               2          7.0      0                3  \n",
              "8064              3.0               2          4.0      3                3  \n",
              "8065              1.0               2          1.0      5                3  \n",
              "8066              1.0               2          4.0      5                1  \n",
              "8067              0.0               0          3.0      3                1  \n",
              "\n",
              "[8068 rows x 11 columns]"
            ]
          },
          "execution_count": 125,
          "metadata": {},
          "output_type": "execute_result"
        }
      ],
      "source": [
        "'''target_variable = None\n",
        "for column in df.columns[::-1]:\n",
        "    if df[column].dtype == 'object':\n",
        "        if len(df[column].unique()) <= 4:\n",
        "            target_variable = column\n",
        "            break'''\n",
        "target_variable = {df.columns[-1]: 'target_variable'}\n",
        "df = df.rename(columns=target_variable)\n",
        "target_variable=\"target_variable\"\n",
        "\n",
        "'''if target_variable is None:\n",
        "    corr = df.corr()\n",
        "    print(corr)\n",
        "    target_variable = corr.nlargest(1, 'target_variable')['target_variable'].index[0]'''\n",
        "\n",
        "df"
      ]
    },
    {
      "cell_type": "code",
      "execution_count": 126,
      "metadata": {
        "id": "cWvQ2Ey9FD6x"
      },
      "outputs": [],
      "source": [
        "df = df.dropna()\n"
      ]
    },
    {
      "cell_type": "code",
      "execution_count": 127,
      "metadata": {
        "colab": {
          "base_uri": "https://localhost:8080/",
          "height": 465
        },
        "id": "t4blYpjLfbR3",
        "outputId": "d5c495f1-7ac1-4784-f052-f3cd0d345f58"
      },
      "outputs": [
        {
          "name": "stdout",
          "output_type": "stream",
          "text": [
            "[0.22071896 0.02346008 0.03789982 0.22806175 0.04231656 0.12067999\n",
            " 0.11196788 0.05439247 0.09010848 0.07039402]\n"
          ]
        },
        {
          "data": {
            "image/png": "[encoded data removed]",
            "text/plain": [
              "<Figure size 640x480 with 1 Axes>"
            ]
          },
          "metadata": {},
          "output_type": "display_data"
        }
      ],
      "source": [
        "y = df[target_variable]\n",
        "X = df.drop(target_variable, axis=1)\n",
        "model = ExtraTreesClassifier()\n",
        "model.fit(X,y)\n",
        "print(model.feature_importances_) #use inbuilt class feature_importances of tree based classifiers\n",
        "#plot graph of feature importances for better visualization\n",
        "feat_importances = pd.Series(model.feature_importances_, index=X.columns)\n",
        "\n",
        "feat_importances_sorted = feat_importances.sort_values(ascending=False)\n",
        "\n",
        "feat_importances_sorted.plot(kind='barh')\n",
        "plt.show()\n",
        "# Select the top 4 most important features\n",
        "top_4_features = feat_importances_sorted[:4].index.tolist()\n",
        "\n",
        "# Create a new DataFrame with only the top 4 features and the target variable\n",
        "df= df[top_4_features + [target_variable]]"
      ]
    },
    {
      "cell_type": "code",
      "execution_count": 128,
      "metadata": {
        "colab": {
          "base_uri": "https://localhost:8080/"
        },
        "id": "wwqU3GT9iQ_q",
        "outputId": "c3ae2bbd-56a1-489e-ae1f-86f6e1f81492"
      },
      "outputs": [
        {
          "name": "stdout",
          "output_type": "stream",
          "text": [
            "   Age      ID  Profession  Work_Experience  target_variable\n",
            "0   22  462809           5              1.0                3\n",
            "2   67  466315           2              1.0                1\n",
            "3   67  461735           7              0.0                1\n",
            "5   56  461319           0              0.0                2\n",
            "6   32  460156           5              1.0                2\n"
          ]
        }
      ],
      "source": [
        "print(df.head())"
      ]
    },
    {
      "cell_type": "code",
      "execution_count": 129,
      "metadata": {
        "colab": {
          "base_uri": "https://localhost:8080/"
        },
        "id": "jE_-Flm9ffc8",
        "outputId": "c193d16d-adce-4396-93a8-5273b948e5da"
      },
      "outputs": [
        {
          "name": "stdout",
          "output_type": "stream",
          "text": [
            "Age                0\n",
            "ID                 0\n",
            "Profession         0\n",
            "Work_Experience    0\n",
            "target_variable    0\n",
            "dtype: int64\n"
          ]
        }
      ],
      "source": [
        "null_values = df.isnull().sum()\n",
        "\n",
        "# Print the number of null values in each column\n",
        "print(null_values)\n",
        "\n",
        "# Replace null values with column mean values\n",
        "mean_values = df.mean()\n",
        "df.fillna(mean_values, inplace=True)"
      ]
    },
    {
      "cell_type": "code",
      "execution_count": 130,
      "metadata": {
        "id": "XLC75LGMff_Z"
      },
      "outputs": [],
      "source": [
        "def handle_outliers_IQR(df, column):\n",
        "    Q1 = df[column].quantile(0.25)\n",
        "    Q3 = df[column].quantile(0.75)\n",
        "    IQR = Q3 - Q1\n",
        "    lower_bound = Q1 - 1.5*IQR\n",
        "    upper_bound = Q3 + 1.5*IQR\n",
        "    df[column] = df[column].apply(lambda x: upper_bound if x > upper_bound else (lower_bound if x < lower_bound else x))\n",
        "    return df\n",
        "\n",
        "# Apply the handle_outliers_IQR function to each numeric column in the dataframe\n",
        "for col in df.select_dtypes(include='number'):\n",
        "    df = handle_outliers_IQR(df, col)"
      ]
    },
    {
      "cell_type": "code",
      "execution_count": 131,
      "metadata": {
        "colab": {
          "base_uri": "https://localhost:8080/"
        },
        "id": "EHh0ewwC0JLp",
        "outputId": "31a7cd26-8b8c-44d1-9eb8-7d311db6d6ea"
      },
      "outputs": [
        {
          "name": "stdout",
          "output_type": "stream",
          "text": [
            "Index(['Age', 'ID', 'Profession', 'Work_Experience', 'target_variable'], dtype='object')\n"
          ]
        }
      ],
      "source": [
        "print(df.columns)"
      ]
    },
    {
      "cell_type": "code",
      "execution_count": 132,
      "metadata": {
        "colab": {
          "base_uri": "https://localhost:8080/"
        },
        "id": "1NNSveEuhvZy",
        "outputId": "86249d65-1c3d-4a47-98bc-7b8f77a801ca"
      },
      "outputs": [
        {
          "name": "stdout",
          "output_type": "stream",
          "text": [
            "[]\n",
            "       Age      ID  Profession  Work_Experience  target_variable\n",
            "0     22.0  462809           5              1.0                3\n",
            "2     67.0  466315           2              1.0                1\n",
            "3     67.0  461735           7              0.0                1\n",
            "5     56.0  461319           0              0.0                2\n",
            "6     32.0  460156           5              1.0                2\n",
            "...    ...     ...         ...              ...              ...\n",
            "8063  22.0  464018           9              0.0                3\n",
            "8064  35.0  464685           4              3.0                3\n",
            "8065  33.0  465406           5              1.0                3\n",
            "8066  27.0  467299           5              1.0                1\n",
            "8067  37.0  461879           4              0.0                1\n",
            "\n",
            "[6969 rows x 5 columns]\n",
            "    Age      ID  Profession  Work_Experience  target_variable\n",
            "0  22.0  462809           5              1.0                3\n",
            "2  67.0  466315           2              1.0                1\n",
            "3  67.0  461735           7              0.0                1\n",
            "5  56.0  461319           0              0.0                2\n",
            "6  32.0  460156           5              1.0                2\n"
          ]
        }
      ],
      "source": [
        "from sklearn.compose import ColumnTransformer\n",
        "cat_cols = [col for col in df.columns if df[col].dtype == 'object' and col!=target_variable]\n",
        "print(cat_cols)\n",
        "\n",
        "\n",
        "df = pd.get_dummies(df, columns = cat_cols)\n",
        "print(df)\n",
        "\n",
        "# Print transformed data\n",
        "print(df.head())"
      ]
    },
    {
      "cell_type": "code",
      "execution_count": 133,
      "metadata": {
        "id": "1ccNt_AiiqeZ"
      },
      "outputs": [],
      "source": [
        "# Standardize numerical variables using z-score normalization\n",
        "num_cols = df.select_dtypes(include='number').columns\n",
        "scaler = StandardScaler()\n",
        "df[num_cols] = scaler.fit_transform(df[num_cols])"
      ]
    },
    {
      "cell_type": "code",
      "execution_count": 134,
      "metadata": {
        "id": "qiLkDmmn47Gq"
      },
      "outputs": [],
      "source": [
        "pred = df[target_variable]\n",
        "x_content = df.drop(target_variable, axis=1)"
      ]
    },
    {
      "cell_type": "code",
      "execution_count": 135,
      "metadata": {
        "id": "-BkQphq7jfyi"
      },
      "outputs": [],
      "source": [
        "from sklearn.linear_model import LogisticRegression\n",
        "from sklearn.ensemble import RandomForestClassifier\n",
        "from sklearn.neighbors import KNeighborsClassifier\n",
        "from sklearn.svm import SVC\n",
        "from sklearn.metrics import accuracy_score"
      ]
    },
    {
      "cell_type": "code",
      "execution_count": null,
      "metadata": {
        "colab": {
          "base_uri": "https://localhost:8080/",
          "height": 423
        },
        "id": "N6tal0I_SoKH",
        "outputId": "85a850f3-681e-4f00-9245-ca3d14870ac0"
      },
      "outputs": [],
      "source": []
    },
    {
      "cell_type": "code",
      "execution_count": 136,
      "metadata": {
        "id": "C5Yen08dLPx7"
      },
      "outputs": [],
      "source": [
        "from sklearn import preprocessing\n",
        "from sklearn import utils\n",
        "lab = preprocessing.LabelEncoder()\n",
        "y_transformed = lab.fit_transform(pred)"
      ]
    },
    {
      "cell_type": "code",
      "execution_count": 137,
      "metadata": {
        "colab": {
          "base_uri": "https://localhost:8080/"
        },
        "id": "vhgBDOlyL2G4",
        "outputId": "364e6614-aff6-4c7c-bdd4-81b673d62079"
      },
      "outputs": [
        {
          "name": "stdout",
          "output_type": "stream",
          "text": [
            "[3 1 1 ... 3 1 1]\n"
          ]
        }
      ],
      "source": [
        "print(y_transformed)"
      ]
    },
    {
      "cell_type": "code",
      "execution_count": 138,
      "metadata": {
        "id": "2o7QYlLoisrw"
      },
      "outputs": [],
      "source": [
        "from sklearn.model_selection import train_test_split\n",
        "# Split data into training and testing sets\n",
        "X_train, X_test, y_train, y_test = train_test_split(x_content,y_transformed, test_size=0.3,random_state =2)"
      ]
    },
    {
      "cell_type": "code",
      "execution_count": 139,
      "metadata": {
        "id": "uWbV1nktNr4k"
      },
      "outputs": [],
      "source": [
        "acc=[]\n",
        "models=[\"Random Forest\",\"KNeighbors\",\"Support Vector Machine\",\"Logistic Regression\"]"
      ]
    },
    {
      "cell_type": "code",
      "execution_count": null,
      "metadata": {
        "id": "dV7lSwn8Nq_T"
      },
      "outputs": [],
      "source": []
    },
    {
      "cell_type": "code",
      "execution_count": 140,
      "metadata": {
        "colab": {
          "base_uri": "https://localhost:8080/"
        },
        "id": "AP8w91fKi-f3",
        "outputId": "f44780dc-fb1d-4ed7-c16f-2937511696de"
      },
      "outputs": [
        {
          "name": "stdout",
          "output_type": "stream",
          "text": [
            "Logistic Regression accuracy: 0.44428503108560496\n",
            "Random Forest accuracy: 0.4337637494021999\n",
            "KNN accuracy: 0.4294595887135342\n",
            "SVM accuracy: 0.45528455284552843\n"
          ]
        }
      ],
      "source": [
        "\n",
        "\n",
        "# Fit random forest model\n",
        "\n",
        "\n",
        "rf = RandomForestClassifier()\n",
        "rf.fit(X_train, y_train)\n",
        "rf_pred = rf.predict(X_test)\n",
        "rf_accuracy = accuracy_score(y_test, rf_pred)\n",
        "acc.append(rf_accuracy)\n",
        "\n",
        "# Fit KNN model\n",
        "knn = KNeighborsClassifier(n_neighbors=3)\n",
        "knn.fit(X_train, y_train)\n",
        "knn_pred = knn.predict(X_test)\n",
        "knn_accuracy = accuracy_score(y_test, knn_pred)\n",
        "acc.append(knn_accuracy)\n",
        "\n",
        "# Fit SVM model\n",
        "svm = SVC()\n",
        "svm.fit(X_train, y_train)\n",
        "svm_pred = svm.predict(X_test)\n",
        "svm_accuracy = accuracy_score(y_test, svm_pred)\n",
        "acc.append(svm_accuracy)\n",
        "\n",
        "# Fit logistic regression model\n",
        "lr = LogisticRegression()\n",
        "lr.fit(X_train, y_train)\n",
        "lr_pred = lr.predict(X_test)\n",
        "lr_accuracy = accuracy_score(y_test, lr_pred)\n",
        "acc.append(lr_accuracy)\n",
        "\n",
        "# Print accuracies\n",
        "print('Logistic Regression accuracy:', lr_accuracy)\n",
        "print('Random Forest accuracy:', rf_accuracy)\n",
        "print('KNN accuracy:', knn_accuracy)\n",
        "print('SVM accuracy:', svm_accuracy)"
      ]
    },
    {
      "cell_type": "code",
      "execution_count": 141,
      "metadata": {},
      "outputs": [],
      "source": [
        "metrics={\n",
        "    'rf_accuracy':rf_accuracy,\n",
        "     'knn_accuracy':knn_accuracy,\n",
        "     'svm_accuracy':svm_accuracy,\n",
        "     'lr_accuracy':lr_accuracy,\n",
        "     }"
      ]
    },
    {
      "cell_type": "code",
      "execution_count": 142,
      "metadata": {},
      "outputs": [],
      "source": [
        "import json\n",
        "json.dump(\n",
        "obj=metrics,\n",
        "fp=open('metrics.json', 'w'),\n",
        "indent=4,\n",
        "sort_keys=True\n",
        ")"
      ]
    },
    {
      "cell_type": "code",
      "execution_count": 143,
      "metadata": {
        "id": "aVKuhqoDOOlX"
      },
      "outputs": [],
      "source": [
        "x_pos = np.arange(len(acc))"
      ]
    },
    {
      "cell_type": "code",
      "execution_count": 144,
      "metadata": {
        "colab": {
          "base_uri": "https://localhost:8080/",
          "height": 776
        },
        "id": "OkcfLdB3OU25",
        "outputId": "c79cd643-a98c-47a5-f5cd-d7c2cc70f6c9"
      },
      "outputs": [
        {
          "data": {
            "image/png": "[encoded data removed]",
            "text/plain": [
              "<Figure size 640x480 with 1 Axes>"
            ]
          },
          "metadata": {},
          "output_type": "display_data"
        }
      ],
      "source": [
        "plt.plot(acc, models, color =\"red\")\n",
        "\n",
        "plt.ylabel('Accuracy')\n",
        "plt.show()\n"
      ]
    },
    {
      "cell_type": "code",
      "execution_count": 148,
      "metadata": {},
      "outputs": [
        {
          "data": {
            "text/plain": [
              "<Figure size 640x480 with 0 Axes>"
            ]
          },
          "metadata": {},
          "output_type": "display_data"
        }
      ],
      "source": [
        "plt.savefig('plot.png')\n"
      ]
    },
    {
      "cell_type": "code",
      "execution_count": null,
      "metadata": {
        "colab": {
          "base_uri": "https://localhost:8080/"
        },
        "id": "hzG8ibkajkEE",
        "outputId": "c8c31ad6-74a1-4fb2-87b3-b129e42c8d61"
      },
      "outputs": [
        {
          "name": "stdout",
          "output_type": "stream",
          "text": [
            "Best model: SVM\n",
            "Accuracy: 0.45528455284552843\n",
            "Classification Report:\n",
            "               precision    recall  f1-score   support\n",
            "\n",
            "           0       0.38      0.38      0.38       521\n",
            "           1       0.32      0.30      0.31       464\n",
            "           2       0.48      0.47      0.47       567\n",
            "           3       0.60      0.65      0.62       539\n",
            "\n",
            "    accuracy                           0.46      2091\n",
            "   macro avg       0.44      0.45      0.45      2091\n",
            "weighted avg       0.45      0.46      0.45      2091\n",
            "\n",
            "Confusion Matrix:\n",
            " [[197 111 121  92]\n",
            " [110 139 151  64]\n",
            " [ 90 133 266  78]\n",
            " [117  52  20 350]]\n"
          ]
        }
      ],
      "source": [
        "from sklearn.metrics import classification_report, confusion_matrix\n",
        "\n",
        "# Find the best model\n",
        "models = {'Logistic Regression': lr_accuracy, 'Random Forest': rf_accuracy, 'KNN': knn_accuracy, 'SVM': svm_accuracy}\n",
        "best_model = max(models, key=models.get)\n",
        "\n",
        "# Print the best model and its accuracy\n",
        "print('Best model:', best_model)\n",
        "print('Accuracy:', models[best_model])\n",
        "\n",
        "# Print classification report and confusion matrix for the best model\n",
        "if best_model == 'Logistic Regression':\n",
        "    pred = lr_pred\n",
        "elif best_model == 'Random Forest':\n",
        "    pred = rf_pred\n",
        "elif best_model == 'KNN':\n",
        "    pred = knn_pred\n",
        "else:\n",
        "    pred = svm_pred\n",
        "    \n",
        "print('Classification Report:\\n', classification_report(y_test, pred))\n",
        "print('Confusion Matrix:\\n', confusion_matrix(y_test, pred))"
      ]
    },
    {
      "cell_type": "code",
      "execution_count": null,
      "metadata": {
        "id": "28nFq07o2IKd"
      },
      "outputs": [],
      "source": []
    }
  ],
  "metadata": {
    "colab": {
      "provenance": []
    },
    "kernelspec": {
      "display_name": "Python 3",
      "name": "python3"
    },
    "language_info": {
      "codemirror_mode": {
        "name": "ipython",
        "version": 3
      },
      "file_extension": ".py",
      "mimetype": "text/x-python",
      "name": "python",
      "nbconvert_exporter": "python",
      "pygments_lexer": "ipython3",
      "version": "3.11.2"
    }
  },
  "nbformat": 4,
  "nbformat_minor": 0
}
